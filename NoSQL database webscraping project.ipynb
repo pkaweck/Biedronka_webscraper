{
 "cells": [
  {
   "cell_type": "markdown",
   "metadata": {},
   "source": [
    "# Web Scraping project"
   ]
  },
  {
   "cell_type": "markdown",
   "metadata": {},
   "source": [
    "## The aim of this project was to generate all the current locations of Biedronka in PL and transfer them to NoSQL database in MondoDB."
   ]
  },
  {
   "cell_type": "code",
   "execution_count": 1,
   "metadata": {},
   "outputs": [
    {
     "name": "stdout",
     "output_type": "stream",
     "text": [
      "Zakończono wstawianie\n"
     ]
    }
   ],
   "source": [
    "from pymongo import MongoClient\n",
    "import requests\n",
    "from bs4 import BeautifulSoup\n",
    "import datetime\n",
    "\n",
    "klient = MongoClient(\"local_host_name\")\n",
    "\n",
    "bd=klient['baza_biedronka']\n",
    "\n",
    "kolekcja = bd['baza_biedronka']\n",
    "\n",
    "\n",
    "#Def to check if is two part city\n",
    "def check_two_parts(checking_text):\n",
    "    if checking_text.find('-') != -1:\n",
    "        return True\n",
    "    else:\n",
    "        return False\n",
    "\n",
    "#Def to check street\n",
    "def check_the_street(text_checking):\n",
    "    if len(text_checking) > 5:\n",
    "        return True\n",
    "    else:\n",
    "        return False\n",
    "\n",
    "for i in range(1,165):\n",
    "\n",
    "    r = requests.get(f'https://www.biedronka.pl/pl/sklepy/lista,lat,50.06465009999999,lng,19.94497990000002,page,{i}')\n",
    "    tagi=BeautifulSoup(r.text, 'html.parser')\n",
    "    sklepy=tagi.findAll('h4', attrs={'style':'margin-bottom: 10px;'})\n",
    "    for sklep in sklepy:\n",
    "            teraz=datetime.datetime.today()\n",
    "            #checking if it's to parts city\n",
    "            if len(sklep.text.split()) == 3:\n",
    "                 konkurencja_lok ={'Miasto': sklep.text.split()[0],\n",
    "                                'Kod-pocztowy': sklep.text.split()[1],\n",
    "                                'Ulica': sklep.text.split()[2]}\n",
    "            elif len(sklep.text.split()) == 4:\n",
    "                if check_two_parts(sklep.text.split()[1]) is False:\n",
    "                    konkurencja_lok ={'Miasto': sklep.text.split()[0] + \" \" + sklep.text.split()[1],\n",
    "                                'Kod-pocztowy': sklep.text.split()[2],\n",
    "                                'Ulica': sklep.text.split()[3]}\n",
    "                else:\n",
    "                    konkurencja_lok ={'Miasto': sklep.text.split()[0],\n",
    "                                'Kod-pocztowy': sklep.text.split()[1],\n",
    "                                'Ulica': sklep.text.split()[2] + \" \" + sklep.text.split()[3]}\n",
    "            elif len(sklep.text.split()) == 5:\n",
    "                if check_two_parts(sklep.text.split()[1]) is True:\n",
    "                     konkurencja_lok ={'Miasto': sklep.text.split()[0],\n",
    "                                'Kod-pocztowy': sklep.text.split()[1],\n",
    "                                'Ulica': sklep.text.split()[2] + \" \" + sklep.text.split()[3] + \" \" + sklep.text.split()[4]}\n",
    "                else:\n",
    "                    konkurencja_lok ={'Miasto': sklep.text.split()[0] + \" \"+ sklep.text.split()[1],\n",
    "                                'Kod-pocztowy': sklep.text.split()[2],\n",
    "                                'Ulica': sklep.text.split()[3] + \" \" + sklep.text.split()[4]}\n",
    "            elif len(sklep.text.split()) == 6:\n",
    "                if check_two_parts(sklep.text.split()[1]) is False:\n",
    "                    konkurencja_lok ={'Miasto': sklep.text.split()[0] + \" \" + sklep.text.split()[1],\n",
    "                                'Kod-pocztowy': sklep.text.split()[2],\n",
    "                                'Ulica': sklep.text.split()[3] + \" \" + sklep.text.split()[4] + \" \" + sklep.text.split()[5]}\n",
    "                else:\n",
    "                    konkurencja_lok ={'Miasto': sklep.text.split()[0],\n",
    "                                'Kod-pocztowy': sklep.text.split()[1],\n",
    "                                'Ulica': sklep.text.split()[2] + \" \" + sklep.text.split()[3] + \" \" + sklep.text.split()[4]}\n",
    "            elif len(sklep.text.split()) == 7:\n",
    "                konkurencja_lok ={'Miasto': sklep.text.split()[0] + \" \" + sklep.text.split()[1],\n",
    "                                'Kod-pocztowy': sklep.text.split()[2],\n",
    "                                'Ulica': sklep.text.split()[3] + \" \" + sklep.text.split()[3] + \" \" + sklep.text.split()[4]\n",
    "                                 + \" \" + sklep.text.split()[5] + \" \" + sklep.text.split()[6]}\n",
    "            else:\n",
    "                konkurencja_lok ={'Miasto': \"null\",\n",
    "                                'Kod-pocztowy': \"null\",\n",
    "                                'Ulica': 'null'}\n",
    "                \n",
    "            rezultat = kolekcja.insert_one(konkurencja_lok)\n",
    "print(\"Zakończono wstawianie\")\n",
    "\n"
   ]
  },
  {
   "cell_type": "code",
   "execution_count": null,
   "metadata": {},
   "outputs": [],
   "source": []
  }
 ],
 "metadata": {
  "kernelspec": {
   "display_name": "Python 3",
   "language": "python",
   "name": "python3"
  },
  "language_info": {
   "codemirror_mode": {
    "name": "ipython",
    "version": 3
   },
   "file_extension": ".py",
   "mimetype": "text/x-python",
   "name": "python",
   "nbconvert_exporter": "python",
   "pygments_lexer": "ipython3",
   "version": "3.9.0"
  }
 },
 "nbformat": 4,
 "nbformat_minor": 5
}
